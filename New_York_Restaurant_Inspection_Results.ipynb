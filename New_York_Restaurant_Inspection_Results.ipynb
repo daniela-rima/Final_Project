{
 "cells": [
  {
   "cell_type": "markdown",
   "id": "279d8fe7",
   "metadata": {},
   "source": [
    "# Final Project\n",
    "\n",
    "## NYC's New Restaurant Owners Guide\n",
    "\n",
    "#### The dos and dont's that you should keep an eye out to pass inspections"
   ]
  },
  {
   "cell_type": "markdown",
   "id": "508453f1",
   "metadata": {},
   "source": [
    "### Analysis to Explore\n",
    "\n",
    "#### Food Safety Inspections:\n",
    "\n",
    "- Most Common Violations for NYC Restaurants\n",
    "  - Trends Over Time (Common Violations per Year)\n",
    "\n",
    "- Average Grades by Boro\n",
    "\n",
    "- Common Cuisines by Boro"
   ]
  },
  {
   "cell_type": "markdown",
   "id": "fc09722e",
   "metadata": {},
   "source": [
    "### About this DataFrame\n",
    "\n",
    "#### What it is:\n",
    " - Inspection for restaurants and college cafeterias in an active status as of 06/17/2024\n",
    " - This DataFrame is from NYC Open Data and can be found [here](https://data.cityofnewyork.us/Health/DOHMH-New-York-City-Restaurant-Inspection-Results/43nn-pn8j/about_data)\n",
    " - Another way to view this information is by going to [The Health Department’s Restaurant Grading Website](http://www1.nyc.gov/site/doh/services/restaurant-grades.page)"
   ]
  },
  {
   "cell_type": "code",
   "execution_count": 1,
   "id": "293fcb9d",
   "metadata": {},
   "outputs": [],
   "source": [
    "import pandas as pd\n",
    "import matplotlib.pyplot as plt\n",
    "import seaborn as sns\n",
    "import numpy as np\n",
    "import scipy.stats as st"
   ]
  },
  {
   "cell_type": "code",
   "execution_count": 2,
   "id": "34b02c6b",
   "metadata": {},
   "outputs": [],
   "source": [
    "inspections_df = pd.read_csv('New_York_City_Restaurant_Inspection_Results.csv')"
   ]
  },
  {
   "cell_type": "code",
   "execution_count": 3,
   "id": "02a7de70",
   "metadata": {
    "scrolled": true
   },
   "outputs": [
    {
     "data": {
      "text/html": [
       "<div>\n",
       "<style scoped>\n",
       "    .dataframe tbody tr th:only-of-type {\n",
       "        vertical-align: middle;\n",
       "    }\n",
       "\n",
       "    .dataframe tbody tr th {\n",
       "        vertical-align: top;\n",
       "    }\n",
       "\n",
       "    .dataframe thead th {\n",
       "        text-align: right;\n",
       "    }\n",
       "</style>\n",
       "<table border=\"1\" class=\"dataframe\">\n",
       "  <thead>\n",
       "    <tr style=\"text-align: right;\">\n",
       "      <th></th>\n",
       "      <th>CAMIS</th>\n",
       "      <th>DBA</th>\n",
       "      <th>BORO</th>\n",
       "      <th>BUILDING</th>\n",
       "      <th>STREET</th>\n",
       "      <th>ZIPCODE</th>\n",
       "      <th>PHONE</th>\n",
       "      <th>CUISINE DESCRIPTION</th>\n",
       "      <th>INSPECTION DATE</th>\n",
       "      <th>ACTION</th>\n",
       "      <th>VIOLATION CODE</th>\n",
       "      <th>VIOLATION DESCRIPTION</th>\n",
       "      <th>CRITICAL FLAG</th>\n",
       "      <th>SCORE</th>\n",
       "      <th>GRADE</th>\n",
       "      <th>GRADE DATE</th>\n",
       "      <th>RECORD DATE</th>\n",
       "      <th>INSPECTION TYPE</th>\n",
       "      <th>Latitude</th>\n",
       "      <th>Longitude</th>\n",
       "      <th>Community Board</th>\n",
       "      <th>Council District</th>\n",
       "      <th>Census Tract</th>\n",
       "      <th>BIN</th>\n",
       "      <th>BBL</th>\n",
       "      <th>NTA</th>\n",
       "      <th>Location Point1</th>\n",
       "    </tr>\n",
       "  </thead>\n",
       "  <tbody>\n",
       "    <tr>\n",
       "      <th>0</th>\n",
       "      <td>50132353</td>\n",
       "      <td>AVENUE RESTAURANT</td>\n",
       "      <td>Manhattan</td>\n",
       "      <td>355</td>\n",
       "      <td>WEST   16 STREET</td>\n",
       "      <td>10011.0</td>\n",
       "      <td>2122292559</td>\n",
       "      <td>NaN</td>\n",
       "      <td>01/01/1900</td>\n",
       "      <td>NaN</td>\n",
       "      <td>NaN</td>\n",
       "      <td>NaN</td>\n",
       "      <td>Not Applicable</td>\n",
       "      <td>NaN</td>\n",
       "      <td>NaN</td>\n",
       "      <td>NaN</td>\n",
       "      <td>06/17/2024</td>\n",
       "      <td>NaN</td>\n",
       "      <td>40.741726</td>\n",
       "      <td>-74.003082</td>\n",
       "      <td>104.0</td>\n",
       "      <td>3.0</td>\n",
       "      <td>8300.0</td>\n",
       "      <td>1088885.0</td>\n",
       "      <td>1.007408e+09</td>\n",
       "      <td>MN13</td>\n",
       "      <td>NaN</td>\n",
       "    </tr>\n",
       "    <tr>\n",
       "      <th>1</th>\n",
       "      <td>50151116</td>\n",
       "      <td>PLANET HOLLYWOOD/CHICKEN GUY!</td>\n",
       "      <td>Manhattan</td>\n",
       "      <td>136</td>\n",
       "      <td>WEST   42 STREET</td>\n",
       "      <td>10036.0</td>\n",
       "      <td>4079035637</td>\n",
       "      <td>NaN</td>\n",
       "      <td>01/01/1900</td>\n",
       "      <td>NaN</td>\n",
       "      <td>NaN</td>\n",
       "      <td>NaN</td>\n",
       "      <td>Not Applicable</td>\n",
       "      <td>NaN</td>\n",
       "      <td>NaN</td>\n",
       "      <td>NaN</td>\n",
       "      <td>06/17/2024</td>\n",
       "      <td>NaN</td>\n",
       "      <td>40.755331</td>\n",
       "      <td>-73.985313</td>\n",
       "      <td>105.0</td>\n",
       "      <td>4.0</td>\n",
       "      <td>11300.0</td>\n",
       "      <td>1022578.0</td>\n",
       "      <td>1.009948e+09</td>\n",
       "      <td>MN17</td>\n",
       "      <td>NaN</td>\n",
       "    </tr>\n",
       "    <tr>\n",
       "      <th>2</th>\n",
       "      <td>50150858</td>\n",
       "      <td>NaN</td>\n",
       "      <td>Queens</td>\n",
       "      <td>13335</td>\n",
       "      <td>ROOSEVELT AVE</td>\n",
       "      <td>11354.0</td>\n",
       "      <td>9179743745</td>\n",
       "      <td>NaN</td>\n",
       "      <td>01/01/1900</td>\n",
       "      <td>NaN</td>\n",
       "      <td>NaN</td>\n",
       "      <td>NaN</td>\n",
       "      <td>Not Applicable</td>\n",
       "      <td>NaN</td>\n",
       "      <td>NaN</td>\n",
       "      <td>NaN</td>\n",
       "      <td>06/17/2024</td>\n",
       "      <td>NaN</td>\n",
       "      <td>40.758502</td>\n",
       "      <td>-73.833242</td>\n",
       "      <td>407.0</td>\n",
       "      <td>20.0</td>\n",
       "      <td>87100.0</td>\n",
       "      <td>4112276.0</td>\n",
       "      <td>4.049730e+09</td>\n",
       "      <td>QN22</td>\n",
       "      <td>NaN</td>\n",
       "    </tr>\n",
       "    <tr>\n",
       "      <th>3</th>\n",
       "      <td>50149676</td>\n",
       "      <td>CONOR'S GOAT</td>\n",
       "      <td>Manhattan</td>\n",
       "      <td>23</td>\n",
       "      <td>AVENUE A</td>\n",
       "      <td>10009.0</td>\n",
       "      <td>2126735550</td>\n",
       "      <td>NaN</td>\n",
       "      <td>01/01/1900</td>\n",
       "      <td>NaN</td>\n",
       "      <td>NaN</td>\n",
       "      <td>NaN</td>\n",
       "      <td>Not Applicable</td>\n",
       "      <td>NaN</td>\n",
       "      <td>NaN</td>\n",
       "      <td>NaN</td>\n",
       "      <td>06/17/2024</td>\n",
       "      <td>NaN</td>\n",
       "      <td>40.722864</td>\n",
       "      <td>-73.985865</td>\n",
       "      <td>103.0</td>\n",
       "      <td>2.0</td>\n",
       "      <td>3002.0</td>\n",
       "      <td>1005747.0</td>\n",
       "      <td>1.004290e+09</td>\n",
       "      <td>MN22</td>\n",
       "      <td>NaN</td>\n",
       "    </tr>\n",
       "    <tr>\n",
       "      <th>4</th>\n",
       "      <td>50132087</td>\n",
       "      <td>FANTASTIC BEASTS</td>\n",
       "      <td>Queens</td>\n",
       "      <td>36-10</td>\n",
       "      <td>UNION STREET</td>\n",
       "      <td>11354.0</td>\n",
       "      <td>2538807717</td>\n",
       "      <td>NaN</td>\n",
       "      <td>01/01/1900</td>\n",
       "      <td>NaN</td>\n",
       "      <td>NaN</td>\n",
       "      <td>NaN</td>\n",
       "      <td>Not Applicable</td>\n",
       "      <td>NaN</td>\n",
       "      <td>NaN</td>\n",
       "      <td>NaN</td>\n",
       "      <td>06/17/2024</td>\n",
       "      <td>NaN</td>\n",
       "      <td>40.763482</td>\n",
       "      <td>-73.828056</td>\n",
       "      <td>407.0</td>\n",
       "      <td>20.0</td>\n",
       "      <td>86900.0</td>\n",
       "      <td>4112354.0</td>\n",
       "      <td>4.049770e+09</td>\n",
       "      <td>QN22</td>\n",
       "      <td>NaN</td>\n",
       "    </tr>\n",
       "  </tbody>\n",
       "</table>\n",
       "</div>"
      ],
      "text/plain": [
       "      CAMIS                            DBA       BORO BUILDING  \\\n",
       "0  50132353              AVENUE RESTAURANT  Manhattan      355   \n",
       "1  50151116  PLANET HOLLYWOOD/CHICKEN GUY!  Manhattan      136   \n",
       "2  50150858                            NaN     Queens    13335   \n",
       "3  50149676                   CONOR'S GOAT  Manhattan       23   \n",
       "4  50132087               FANTASTIC BEASTS     Queens    36-10   \n",
       "\n",
       "             STREET  ZIPCODE       PHONE CUISINE DESCRIPTION INSPECTION DATE  \\\n",
       "0  WEST   16 STREET  10011.0  2122292559                 NaN      01/01/1900   \n",
       "1  WEST   42 STREET  10036.0  4079035637                 NaN      01/01/1900   \n",
       "2     ROOSEVELT AVE  11354.0  9179743745                 NaN      01/01/1900   \n",
       "3          AVENUE A  10009.0  2126735550                 NaN      01/01/1900   \n",
       "4      UNION STREET  11354.0  2538807717                 NaN      01/01/1900   \n",
       "\n",
       "  ACTION VIOLATION CODE VIOLATION DESCRIPTION   CRITICAL FLAG  SCORE GRADE  \\\n",
       "0    NaN            NaN                   NaN  Not Applicable    NaN   NaN   \n",
       "1    NaN            NaN                   NaN  Not Applicable    NaN   NaN   \n",
       "2    NaN            NaN                   NaN  Not Applicable    NaN   NaN   \n",
       "3    NaN            NaN                   NaN  Not Applicable    NaN   NaN   \n",
       "4    NaN            NaN                   NaN  Not Applicable    NaN   NaN   \n",
       "\n",
       "  GRADE DATE RECORD DATE INSPECTION TYPE   Latitude  Longitude  \\\n",
       "0        NaN  06/17/2024             NaN  40.741726 -74.003082   \n",
       "1        NaN  06/17/2024             NaN  40.755331 -73.985313   \n",
       "2        NaN  06/17/2024             NaN  40.758502 -73.833242   \n",
       "3        NaN  06/17/2024             NaN  40.722864 -73.985865   \n",
       "4        NaN  06/17/2024             NaN  40.763482 -73.828056   \n",
       "\n",
       "   Community Board  Council District  Census Tract        BIN           BBL  \\\n",
       "0            104.0               3.0        8300.0  1088885.0  1.007408e+09   \n",
       "1            105.0               4.0       11300.0  1022578.0  1.009948e+09   \n",
       "2            407.0              20.0       87100.0  4112276.0  4.049730e+09   \n",
       "3            103.0               2.0        3002.0  1005747.0  1.004290e+09   \n",
       "4            407.0              20.0       86900.0  4112354.0  4.049770e+09   \n",
       "\n",
       "    NTA  Location Point1  \n",
       "0  MN13              NaN  \n",
       "1  MN17              NaN  \n",
       "2  QN22              NaN  \n",
       "3  MN22              NaN  \n",
       "4  QN22              NaN  "
      ]
     },
     "metadata": {},
     "output_type": "display_data"
    }
   ],
   "source": [
    "with pd.option_context('display.max_columns', None):\n",
    "    display(inspections_df.head())"
   ]
  },
  {
   "cell_type": "code",
   "execution_count": 4,
   "id": "f0c022d0",
   "metadata": {
    "scrolled": false
   },
   "outputs": [
    {
     "data": {
      "text/plain": [
       "CAMIS                         0\n",
       "DBA                         716\n",
       "BORO                          0\n",
       "BUILDING                    331\n",
       "STREET                       12\n",
       "ZIPCODE                    2795\n",
       "PHONE                         3\n",
       "CUISINE DESCRIPTION        2475\n",
       "INSPECTION DATE               0\n",
       "ACTION                     2475\n",
       "VIOLATION CODE             3728\n",
       "VIOLATION DESCRIPTION      3728\n",
       "CRITICAL FLAG                 0\n",
       "SCORE                     11339\n",
       "GRADE                    119784\n",
       "GRADE DATE               128360\n",
       "RECORD DATE                   0\n",
       "INSPECTION TYPE            2475\n",
       "Latitude                    340\n",
       "Longitude                   340\n",
       "Community Board            3368\n",
       "Council District           3364\n",
       "Census Tract               3364\n",
       "BIN                        4562\n",
       "BBL                         585\n",
       "NTA                        3368\n",
       "Location Point1          234037\n",
       "dtype: int64"
      ]
     },
     "execution_count": 4,
     "metadata": {},
     "output_type": "execute_result"
    }
   ],
   "source": [
    "inspections_df.isna().sum()"
   ]
  },
  {
   "cell_type": "markdown",
   "id": "aa72e66a",
   "metadata": {},
   "source": [
    "### Cleaning that could be done\n",
    "\n",
    "> Change names of columns **DONE!**\n",
    "\n",
    "> Drop rows that don't have violation code or description (this is the base of the analysis) **DONE!**\n",
    "\n",
    "> Drop unnecessary columns (Location Point, Phone, Building... many more!) **DONE!**\n",
    "\n",
    "> Check for Duplicates **DONE!**\n",
    "\n",
    "> Check Null Values (fill with average/median/other or drop) **DONE!**"
   ]
  },
  {
   "cell_type": "code",
   "execution_count": 5,
   "id": "d1d9a23e",
   "metadata": {},
   "outputs": [],
   "source": [
    "#Drop Duplicates\n",
    "inspections_df.drop_duplicates(inplace=True)\n",
    "\n",
    "#Drop Null Values for Violation Code - necessary for our analysis\n",
    "inspections_df.dropna(subset='VIOLATION CODE', inplace=True)\n",
    "\n",
    "#Drop Unnecessary Columns\n",
    "inspections_df.drop(columns=['BUILDING', 'STREET', 'ZIPCODE', 'PHONE', 'SCORE', 'GRADE DATE', 'RECORD DATE', 'Community Board', 'Council District', 'Census Tract', 'BIN', 'BBL', 'NTA', 'Location Point1'], inplace=True)\n",
    "\n",
    "#Make Columns Lowercase & Change Spaces to '_'\n",
    "inspections_df.columns = inspections_df.columns.str.lower().str.replace(' ', '_')"
   ]
  },
  {
   "cell_type": "code",
   "execution_count": 6,
   "id": "b404d432",
   "metadata": {
    "scrolled": false
   },
   "outputs": [
    {
     "data": {
      "text/plain": [
       "4"
      ]
     },
     "execution_count": 6,
     "metadata": {},
     "output_type": "execute_result"
    }
   ],
   "source": [
    "inspections_df.duplicated().sum()"
   ]
  },
  {
   "cell_type": "code",
   "execution_count": 7,
   "id": "2894d059",
   "metadata": {
    "scrolled": true
   },
   "outputs": [
    {
     "data": {
      "text/plain": [
       "camis                         0\n",
       "dba                           0\n",
       "boro                          0\n",
       "cuisine_description           0\n",
       "inspection_date               0\n",
       "action                        0\n",
       "violation_code                0\n",
       "violation_description         0\n",
       "critical_flag                 0\n",
       "grade                    116516\n",
       "inspection_type               0\n",
       "latitude                    280\n",
       "longitude                   280\n",
       "dtype: int64"
      ]
     },
     "execution_count": 7,
     "metadata": {},
     "output_type": "execute_result"
    }
   ],
   "source": [
    "inspections_df.isna().sum()"
   ]
  },
  {
   "cell_type": "code",
   "execution_count": 8,
   "id": "550af888",
   "metadata": {
    "scrolled": true
   },
   "outputs": [
    {
     "data": {
      "text/plain": [
       "(230303, 13)"
      ]
     },
     "execution_count": 8,
     "metadata": {},
     "output_type": "execute_result"
    }
   ],
   "source": [
    "inspections_df.shape"
   ]
  },
  {
   "cell_type": "code",
   "execution_count": 9,
   "id": "dd30e6e5",
   "metadata": {},
   "outputs": [],
   "source": [
    "#Rename Columns for Clarification\n",
    "inspections_df.rename(columns = {'camis':'establishment_id', 'dba':'establishment_name', 'boro':'borough'}, inplace=True)"
   ]
  },
  {
   "cell_type": "code",
   "execution_count": 10,
   "id": "dc52ed02",
   "metadata": {},
   "outputs": [],
   "source": [
    "#Change Date Columns to DateTime\n",
    "inspections_df['inspection_date'] = pd.to_datetime(inspections_df['inspection_date'])"
   ]
  },
  {
   "cell_type": "code",
   "execution_count": 11,
   "id": "dd22ba31",
   "metadata": {
    "scrolled": false
   },
   "outputs": [],
   "source": [
    "inspections_df.reset_index(drop=True, inplace=True)"
   ]
  },
  {
   "cell_type": "code",
   "execution_count": 12,
   "id": "5d4ea09d",
   "metadata": {},
   "outputs": [
    {
     "data": {
      "text/plain": [
       "203956"
      ]
     },
     "execution_count": 12,
     "metadata": {},
     "output_type": "execute_result"
    }
   ],
   "source": [
    "inspections_df['establishment_id'].duplicated().sum()"
   ]
  },
  {
   "cell_type": "code",
   "execution_count": 13,
   "id": "c7430124",
   "metadata": {
    "scrolled": false
   },
   "outputs": [
    {
     "data": {
      "text/plain": [
       "209320"
      ]
     },
     "execution_count": 13,
     "metadata": {},
     "output_type": "execute_result"
    }
   ],
   "source": [
    "inspections_df['establishment_name'].duplicated().sum()"
   ]
  },
  {
   "cell_type": "markdown",
   "id": "c6577520",
   "metadata": {},
   "source": [
    "### Although these are duplicated, there are chain restaurants and these could be different inspection."
   ]
  },
  {
   "cell_type": "code",
   "execution_count": 14,
   "id": "c79171a2",
   "metadata": {
    "scrolled": false
   },
   "outputs": [
    {
     "data": {
      "text/plain": [
       "4"
      ]
     },
     "execution_count": 14,
     "metadata": {},
     "output_type": "execute_result"
    }
   ],
   "source": [
    "#Making sure that the 'duplicated' restaurants are not the same inspections\n",
    "\n",
    "inspections_df[['establishment_name', 'establishment_id', 'borough', 'inspection_date', 'violation_code', 'violation_description', 'latitude', 'longitude', 'inspection_type']].duplicated().sum()"
   ]
  },
  {
   "cell_type": "code",
   "execution_count": 15,
   "id": "1b4c00f8",
   "metadata": {},
   "outputs": [],
   "source": [
    "#Drop rows with duplicated inspections (at least for the following columns)\n",
    "\n",
    "inspections_df.drop_duplicates(subset=['establishment_name', 'establishment_id', 'borough', 'inspection_date', 'violation_code', 'violation_description', 'latitude', 'longitude', 'inspection_type'], inplace=True)"
   ]
  },
  {
   "cell_type": "code",
   "execution_count": 16,
   "id": "029d2259",
   "metadata": {},
   "outputs": [
    {
     "data": {
      "text/plain": [
       "0"
      ]
     },
     "execution_count": 16,
     "metadata": {},
     "output_type": "execute_result"
    }
   ],
   "source": [
    "#Confirmation that the rows were dropped\n",
    "\n",
    "inspections_df[['establishment_name', 'establishment_id', 'borough', 'inspection_date', 'violation_code', 'violation_description', 'latitude', 'longitude', 'inspection_type']].duplicated().sum()"
   ]
  },
  {
   "cell_type": "code",
   "execution_count": 17,
   "id": "526c7d84",
   "metadata": {
    "scrolled": false
   },
   "outputs": [
    {
     "data": {
      "text/plain": [
       "establishment_name                establishment_id  borough    inspection_date  violation_code\n",
       "\"U\" LIKE CHINESE TAKE OUT         50126747          Manhattan  2023-02-03       02B               1\n",
       "#1 GARDEN CHINESE RESTAURANT      50075009          Brooklyn   2023-02-09       06B               1\n",
       "$1 PIZZA                          50086385          Manhattan  2022-08-16       08A               1\n",
       "\"W\" CAFE                          50018480          Manhattan  2023-08-22       04M               1\n",
       "\"U\" LIKE CHINESE TAKE OUT         50126747          Manhattan  2023-02-03       04H               1\n",
       "                                                                                                 ..\n",
       "kampai hibachi & brazilian Grill  50107632          Queens     2023-03-23       10B               1\n",
       "                                                                                10F               1\n",
       "                                                                                10G               1\n",
       "ZOUJI BBQ                         50048260          Queens     2023-01-19       05D               1\n",
       "mukbang                           50139716          Queens     2023-09-13       09B               1\n",
       "Name: count, Length: 230299, dtype: int64"
      ]
     },
     "execution_count": 17,
     "metadata": {},
     "output_type": "execute_result"
    }
   ],
   "source": [
    "#Another way to confirm that rows have unique values\n",
    "\n",
    "inspections_df[['establishment_name', 'establishment_id', 'borough', 'inspection_date', 'violation_code']].value_counts().sort_values()"
   ]
  },
  {
   "cell_type": "code",
   "execution_count": 18,
   "id": "976a5987",
   "metadata": {},
   "outputs": [],
   "source": [
    "#Fill Null Values with N = Not Yet Graded\n",
    "inspections_df['grade'].fillna(value='N', inplace=True)"
   ]
  },
  {
   "cell_type": "code",
   "execution_count": 19,
   "id": "7ab30be2",
   "metadata": {
    "scrolled": true
   },
   "outputs": [
    {
     "data": {
      "text/plain": [
       "grade\n",
       "N    125079\n",
       "A     78957\n",
       "B     13394\n",
       "C      8041\n",
       "Z      4198\n",
       "P       630\n",
       "Name: count, dtype: int64"
      ]
     },
     "execution_count": 19,
     "metadata": {},
     "output_type": "execute_result"
    }
   ],
   "source": [
    "inspections_df['grade'].value_counts()\n",
    "\n",
    "#Should I combine N (Not Yet Graded) and Z (Grade Pending)\n",
    "#P is pending but issued on re-opening following an initial inspection that resulted in a closure"
   ]
  },
  {
   "cell_type": "markdown",
   "id": "b2980a93",
   "metadata": {},
   "source": [
    "### Grade Values\n",
    "\n",
    "- N = Not Yet Graded\n",
    "\n",
    "- A = Grade A\n",
    "\n",
    "- B = Grade B\n",
    "\n",
    "- C = Grade C\n",
    "\n",
    "- Z = Grade Pending\n",
    "\n",
    "- P = Grade Pending issued on re-opening following an initial inspection that resulted in a closure"
   ]
  },
  {
   "cell_type": "code",
   "execution_count": 20,
   "id": "6e33b686",
   "metadata": {},
   "outputs": [
    {
     "data": {
      "text/plain": [
       "inspection_date\n",
       "2015-09-24      5\n",
       "2015-10-14      2\n",
       "2015-10-15      1\n",
       "2015-11-19      2\n",
       "2015-11-20      4\n",
       "             ... \n",
       "2024-06-11    457\n",
       "2024-06-12    367\n",
       "2024-06-13    572\n",
       "2024-06-14    238\n",
       "2024-06-15      3\n",
       "Name: count, Length: 1694, dtype: int64"
      ]
     },
     "execution_count": 20,
     "metadata": {},
     "output_type": "execute_result"
    }
   ],
   "source": [
    "#Confirm that all rows have had inspections in order to 'assume' that N and Z could be combined\n",
    "\n",
    "inspections_df['inspection_date'].value_counts().sort_index()"
   ]
  },
  {
   "cell_type": "code",
   "execution_count": 21,
   "id": "3f3322ad",
   "metadata": {},
   "outputs": [],
   "source": [
    "#inspections_df['inspection_day'] = inspections_df['inspection_date'].dt.strftime('%d').astype(int)\n",
    "inspections_df['inspection_month'] = inspections_df['inspection_date'].dt.strftime('%B')\n",
    "inspections_df['inspection_year'] = inspections_df['inspection_date'].dt.strftime('%Y').astype(int)\n",
    "inspections_df.drop(columns='inspection_date', inplace=True)"
   ]
  },
  {
   "cell_type": "code",
   "execution_count": 22,
   "id": "6489673a",
   "metadata": {},
   "outputs": [],
   "source": [
    "#inspections_df['inspection_day'].value_counts().sort_index()"
   ]
  },
  {
   "cell_type": "code",
   "execution_count": 23,
   "id": "c5774c03",
   "metadata": {
    "scrolled": false
   },
   "outputs": [
    {
     "data": {
      "text/plain": [
       "inspection_month\n",
       "April        23794\n",
       "August       20767\n",
       "December     15178\n",
       "February     20549\n",
       "January      21078\n",
       "July         14233\n",
       "June         18560\n",
       "March        26231\n",
       "May          26258\n",
       "November     14830\n",
       "October      14734\n",
       "September    14087\n",
       "Name: count, dtype: int64"
      ]
     },
     "execution_count": 23,
     "metadata": {},
     "output_type": "execute_result"
    }
   ],
   "source": [
    "inspections_df['inspection_month'].value_counts().sort_index()"
   ]
  },
  {
   "cell_type": "code",
   "execution_count": 24,
   "id": "34329045",
   "metadata": {
    "scrolled": true
   },
   "outputs": [
    {
     "data": {
      "text/plain": [
       "inspection_year\n",
       "2015       18\n",
       "2016      358\n",
       "2017      972\n",
       "2018     1390\n",
       "2019     2657\n",
       "2020     2542\n",
       "2021    18719\n",
       "2022    79394\n",
       "2023    81673\n",
       "2024    42576\n",
       "Name: count, dtype: int64"
      ]
     },
     "execution_count": 24,
     "metadata": {},
     "output_type": "execute_result"
    }
   ],
   "source": [
    "inspections_df['inspection_year'].value_counts().sort_index()"
   ]
  },
  {
   "cell_type": "code",
   "execution_count": 25,
   "id": "f822b225",
   "metadata": {},
   "outputs": [
    {
     "data": {
      "text/plain": [
       "establishment_id           int64\n",
       "establishment_name        object\n",
       "borough                   object\n",
       "cuisine_description       object\n",
       "action                    object\n",
       "violation_code            object\n",
       "violation_description     object\n",
       "critical_flag             object\n",
       "grade                     object\n",
       "inspection_type           object\n",
       "latitude                 float64\n",
       "longitude                float64\n",
       "inspection_month          object\n",
       "inspection_year            int64\n",
       "dtype: object"
      ]
     },
     "metadata": {},
     "output_type": "display_data"
    },
    {
     "data": {
      "text/html": [
       "<div>\n",
       "<style scoped>\n",
       "    .dataframe tbody tr th:only-of-type {\n",
       "        vertical-align: middle;\n",
       "    }\n",
       "\n",
       "    .dataframe tbody tr th {\n",
       "        vertical-align: top;\n",
       "    }\n",
       "\n",
       "    .dataframe thead th {\n",
       "        text-align: right;\n",
       "    }\n",
       "</style>\n",
       "<table border=\"1\" class=\"dataframe\">\n",
       "  <thead>\n",
       "    <tr style=\"text-align: right;\">\n",
       "      <th></th>\n",
       "      <th>establishment_id</th>\n",
       "      <th>establishment_name</th>\n",
       "      <th>borough</th>\n",
       "      <th>cuisine_description</th>\n",
       "      <th>action</th>\n",
       "      <th>violation_code</th>\n",
       "      <th>violation_description</th>\n",
       "      <th>critical_flag</th>\n",
       "      <th>grade</th>\n",
       "      <th>inspection_type</th>\n",
       "      <th>latitude</th>\n",
       "      <th>longitude</th>\n",
       "      <th>inspection_month</th>\n",
       "      <th>inspection_year</th>\n",
       "    </tr>\n",
       "  </thead>\n",
       "  <tbody>\n",
       "    <tr>\n",
       "      <th>0</th>\n",
       "      <td>50057566</td>\n",
       "      <td>DOMINO'S</td>\n",
       "      <td>Queens</td>\n",
       "      <td>Pizza</td>\n",
       "      <td>Violations were cited in the following area(s).</td>\n",
       "      <td>09C</td>\n",
       "      <td>Food contact surface not properly maintained.</td>\n",
       "      <td>Not Critical</td>\n",
       "      <td>A</td>\n",
       "      <td>Cycle Inspection / Initial Inspection</td>\n",
       "      <td>40.665341</td>\n",
       "      <td>-73.730655</td>\n",
       "      <td>August</td>\n",
       "      <td>2021</td>\n",
       "    </tr>\n",
       "    <tr>\n",
       "      <th>1</th>\n",
       "      <td>50065306</td>\n",
       "      <td>CHENG'S</td>\n",
       "      <td>Staten Island</td>\n",
       "      <td>Chinese</td>\n",
       "      <td>Violations were cited in the following area(s).</td>\n",
       "      <td>04L</td>\n",
       "      <td>Evidence of mice or live mice in establishment...</td>\n",
       "      <td>Critical</td>\n",
       "      <td>N</td>\n",
       "      <td>Cycle Inspection / Initial Inspection</td>\n",
       "      <td>40.626010</td>\n",
       "      <td>-74.156541</td>\n",
       "      <td>April</td>\n",
       "      <td>2023</td>\n",
       "    </tr>\n",
       "    <tr>\n",
       "      <th>2</th>\n",
       "      <td>41163307</td>\n",
       "      <td>TAQUERIA SAN PEDRO</td>\n",
       "      <td>Manhattan</td>\n",
       "      <td>Mexican</td>\n",
       "      <td>Violations were cited in the following area(s).</td>\n",
       "      <td>02B</td>\n",
       "      <td>Hot TCS food item not held at or above 140 °F.</td>\n",
       "      <td>Critical</td>\n",
       "      <td>B</td>\n",
       "      <td>Cycle Inspection / Re-inspection</td>\n",
       "      <td>40.830403</td>\n",
       "      <td>-73.947535</td>\n",
       "      <td>September</td>\n",
       "      <td>2022</td>\n",
       "    </tr>\n",
       "    <tr>\n",
       "      <th>3</th>\n",
       "      <td>50007331</td>\n",
       "      <td>PALACE RESTAURANT</td>\n",
       "      <td>Manhattan</td>\n",
       "      <td>American</td>\n",
       "      <td>Violations were cited in the following area(s).</td>\n",
       "      <td>02B</td>\n",
       "      <td>Hot food item not held at or above 140º F.</td>\n",
       "      <td>Critical</td>\n",
       "      <td>N</td>\n",
       "      <td>Cycle Inspection / Initial Inspection</td>\n",
       "      <td>40.761164</td>\n",
       "      <td>-73.969736</td>\n",
       "      <td>May</td>\n",
       "      <td>2022</td>\n",
       "    </tr>\n",
       "    <tr>\n",
       "      <th>4</th>\n",
       "      <td>40512788</td>\n",
       "      <td>ELIAS CORNER FOR FISH</td>\n",
       "      <td>Queens</td>\n",
       "      <td>Seafood</td>\n",
       "      <td>Violations were cited in the following area(s).</td>\n",
       "      <td>04M</td>\n",
       "      <td>Live roaches present in facility's food and/or...</td>\n",
       "      <td>Critical</td>\n",
       "      <td>A</td>\n",
       "      <td>Cycle Inspection / Initial Inspection</td>\n",
       "      <td>40.772154</td>\n",
       "      <td>-73.915568</td>\n",
       "      <td>January</td>\n",
       "      <td>2022</td>\n",
       "    </tr>\n",
       "  </tbody>\n",
       "</table>\n",
       "</div>"
      ],
      "text/plain": [
       "   establishment_id     establishment_name        borough cuisine_description  \\\n",
       "0          50057566               DOMINO'S         Queens               Pizza   \n",
       "1          50065306                CHENG'S  Staten Island             Chinese   \n",
       "2          41163307     TAQUERIA SAN PEDRO      Manhattan             Mexican   \n",
       "3          50007331      PALACE RESTAURANT      Manhattan            American   \n",
       "4          40512788  ELIAS CORNER FOR FISH         Queens             Seafood   \n",
       "\n",
       "                                            action violation_code  \\\n",
       "0  Violations were cited in the following area(s).            09C   \n",
       "1  Violations were cited in the following area(s).            04L   \n",
       "2  Violations were cited in the following area(s).            02B   \n",
       "3  Violations were cited in the following area(s).            02B   \n",
       "4  Violations were cited in the following area(s).            04M   \n",
       "\n",
       "                               violation_description critical_flag grade  \\\n",
       "0      Food contact surface not properly maintained.  Not Critical     A   \n",
       "1  Evidence of mice or live mice in establishment...      Critical     N   \n",
       "2     Hot TCS food item not held at or above 140 °F.      Critical     B   \n",
       "3         Hot food item not held at or above 140º F.      Critical     N   \n",
       "4  Live roaches present in facility's food and/or...      Critical     A   \n",
       "\n",
       "                         inspection_type   latitude  longitude  \\\n",
       "0  Cycle Inspection / Initial Inspection  40.665341 -73.730655   \n",
       "1  Cycle Inspection / Initial Inspection  40.626010 -74.156541   \n",
       "2       Cycle Inspection / Re-inspection  40.830403 -73.947535   \n",
       "3  Cycle Inspection / Initial Inspection  40.761164 -73.969736   \n",
       "4  Cycle Inspection / Initial Inspection  40.772154 -73.915568   \n",
       "\n",
       "  inspection_month  inspection_year  \n",
       "0           August             2021  \n",
       "1            April             2023  \n",
       "2        September             2022  \n",
       "3              May             2022  \n",
       "4          January             2022  "
      ]
     },
     "metadata": {},
     "output_type": "display_data"
    },
    {
     "data": {
      "text/plain": [
       "(230299, 14)"
      ]
     },
     "execution_count": 25,
     "metadata": {},
     "output_type": "execute_result"
    }
   ],
   "source": [
    "display(inspections_df.dtypes)\n",
    "display(inspections_df.head())\n",
    "inspections_df.shape"
   ]
  },
  {
   "cell_type": "code",
   "execution_count": 26,
   "id": "c32c7ea2",
   "metadata": {},
   "outputs": [
    {
     "name": "stdout",
     "output_type": "stream",
     "text": [
      "cuisine_description\n",
      "Chimichurri               2\n",
      "Haute Cuisine             5\n",
      "Czech                     7\n",
      "Basque                    9\n",
      "Nuts/Confectionary       18\n",
      "                      ...  \n",
      "Latin American         9430\n",
      "Pizza                 14167\n",
      "Coffee/Tea            16015\n",
      "Chinese               22513\n",
      "American              37720\n",
      "Name: count, Length: 89, dtype: int64\n"
     ]
    },
    {
     "data": {
      "text/plain": [
       "89"
      ]
     },
     "execution_count": 26,
     "metadata": {},
     "output_type": "execute_result"
    }
   ],
   "source": [
    "print(inspections_df['cuisine_description'].value_counts().sort_values())\n",
    "len(inspections_df['cuisine_description'].value_counts())\n",
    "\n",
    "#Many values... should I filter them out?"
   ]
  },
  {
   "cell_type": "code",
   "execution_count": 27,
   "id": "fffa4cfe",
   "metadata": {
    "scrolled": false
   },
   "outputs": [
    {
     "data": {
      "text/plain": [
       "30"
      ]
     },
     "execution_count": 27,
     "metadata": {},
     "output_type": "execute_result"
    }
   ],
   "source": [
    "len(inspections_df['inspection_type'].value_counts())\n",
    "\n",
    "#Is this column even necessary?"
   ]
  },
  {
   "cell_type": "code",
   "execution_count": 28,
   "id": "1d95dc13",
   "metadata": {
    "scrolled": false
   },
   "outputs": [
    {
     "data": {
      "text/plain": [
       "143"
      ]
     },
     "execution_count": 28,
     "metadata": {},
     "output_type": "execute_result"
    }
   ],
   "source": [
    "len(inspections_df['violation_code'].value_counts().sort_values())"
   ]
  },
  {
   "cell_type": "code",
   "execution_count": 29,
   "id": "cff8bcd1",
   "metadata": {},
   "outputs": [
    {
     "data": {
      "text/plain": [
       "220"
      ]
     },
     "execution_count": 29,
     "metadata": {},
     "output_type": "execute_result"
    }
   ],
   "source": [
    "len(inspections_df['violation_description'].value_counts().sort_values(ascending=False))"
   ]
  },
  {
   "cell_type": "code",
   "execution_count": 30,
   "id": "6e780f38",
   "metadata": {},
   "outputs": [],
   "source": [
    "#Filter Violation Code - Only include those with more than 1000 value counts\n",
    "\n",
    "violation_counts = inspections_df['violation_code'].value_counts()\n",
    "\n",
    "filtered_violations = violation_counts[violation_counts > 1000].index\n",
    "\n",
    "inspections_df = inspections_df[inspections_df['violation_code'].isin(filtered_violations)]"
   ]
  },
  {
   "cell_type": "code",
   "execution_count": 31,
   "id": "ff1dc79a",
   "metadata": {},
   "outputs": [
    {
     "data": {
      "text/plain": [
       "(214174, 14)"
      ]
     },
     "execution_count": 31,
     "metadata": {},
     "output_type": "execute_result"
    }
   ],
   "source": [
    "inspections_df.shape"
   ]
  },
  {
   "cell_type": "code",
   "execution_count": 32,
   "id": "915b5af6",
   "metadata": {},
   "outputs": [
    {
     "data": {
      "text/plain": [
       "16125"
      ]
     },
     "execution_count": 32,
     "metadata": {},
     "output_type": "execute_result"
    }
   ],
   "source": [
    "dropped_columns = 230299 - 214174\n",
    "dropped_columns\n",
    "\n",
    "#We still have sufficient data to draw conclusions"
   ]
  },
  {
   "cell_type": "code",
   "execution_count": 33,
   "id": "d5b5be08",
   "metadata": {},
   "outputs": [
    {
     "data": {
      "text/plain": [
       "30"
      ]
     },
     "execution_count": 33,
     "metadata": {},
     "output_type": "execute_result"
    }
   ],
   "source": [
    "len(inspections_df['violation_code'].value_counts())"
   ]
  },
  {
   "cell_type": "code",
   "execution_count": 34,
   "id": "089abcb1",
   "metadata": {},
   "outputs": [
    {
     "data": {
      "text/plain": [
       "67"
      ]
     },
     "execution_count": 34,
     "metadata": {},
     "output_type": "execute_result"
    }
   ],
   "source": [
    "len(inspections_df['violation_description'].value_counts())\n",
    "\n",
    "#Should I filter them out?"
   ]
  },
  {
   "cell_type": "code",
   "execution_count": 35,
   "id": "5ade37de",
   "metadata": {},
   "outputs": [
    {
     "data": {
      "text/plain": [
       "89"
      ]
     },
     "execution_count": 35,
     "metadata": {},
     "output_type": "execute_result"
    }
   ],
   "source": [
    "len(inspections_df['cuisine_description'].value_counts())\n",
    "\n",
    "#No values were eliminated"
   ]
  },
  {
   "cell_type": "code",
   "execution_count": 36,
   "id": "ac3377a2",
   "metadata": {},
   "outputs": [
    {
     "name": "stdout",
     "output_type": "stream",
     "text": [
      "inspection_type\n",
      "Cycle Inspection / Initial Inspection                          121194\n",
      "Cycle Inspection / Re-inspection                                40965\n",
      "Pre-permit (Operational) / Initial Inspection                   32492\n",
      "Pre-permit (Operational) / Re-inspection                         9436\n",
      "Pre-permit (Non-operational) / Initial Inspection                2605\n",
      "Administrative Miscellaneous / Initial Inspection                1961\n",
      "Pre-permit (Operational) / Compliance Inspection                 1554\n",
      "Cycle Inspection / Reopening Inspection                          1310\n",
      "Cycle Inspection / Compliance Inspection                          917\n",
      "Pre-permit (Operational) / Reopening Inspection                   683\n",
      "Administrative Miscellaneous / Re-inspection                      353\n",
      "Pre-permit (Non-operational) / Re-inspection                      196\n",
      "Inter-Agency Task Force / Initial Inspection                      181\n",
      "Pre-permit (Operational) / Second Compliance Inspection           176\n",
      "Administrative Miscellaneous / Compliance Inspection               65\n",
      "Cycle Inspection / Second Compliance Inspection                    43\n",
      "Pre-permit (Non-operational) / Compliance Inspection               27\n",
      "Administrative Miscellaneous / Reopening Inspection                 8\n",
      "Administrative Miscellaneous / Second Compliance Inspection         5\n",
      "Pre-permit (Non-operational) / Second Compliance Inspection         3\n",
      "Name: count, dtype: int64\n"
     ]
    },
    {
     "data": {
      "text/plain": [
       "20"
      ]
     },
     "execution_count": 36,
     "metadata": {},
     "output_type": "execute_result"
    }
   ],
   "source": [
    "print(inspections_df['inspection_type'].value_counts())\n",
    "len(inspections_df['inspection_type'].value_counts())"
   ]
  },
  {
   "cell_type": "code",
   "execution_count": 37,
   "id": "26a3b396",
   "metadata": {},
   "outputs": [],
   "source": [
    "#Only keep the actual Type of Inspection (Second Value)\n",
    "\n",
    "inspections_df['inspection_type'] = inspections_df['inspection_type'].str.split('/').str.get(1).str.strip()"
   ]
  },
  {
   "cell_type": "code",
   "execution_count": 38,
   "id": "51cbc2ef",
   "metadata": {},
   "outputs": [
    {
     "data": {
      "text/plain": [
       "inspection_type\n",
       "Initial Inspection              158433\n",
       "Re-inspection                    50950\n",
       "Compliance Inspection             2563\n",
       "Reopening Inspection              2001\n",
       "Second Compliance Inspection       227\n",
       "Name: count, dtype: int64"
      ]
     },
     "execution_count": 38,
     "metadata": {},
     "output_type": "execute_result"
    }
   ],
   "source": [
    "inspections_df['inspection_type'].value_counts()"
   ]
  },
  {
   "cell_type": "code",
   "execution_count": 39,
   "id": "78064e8b",
   "metadata": {},
   "outputs": [
    {
     "name": "stdout",
     "output_type": "stream",
     "text": [
      "action\n",
      "Violations were cited in the following area(s).                                                                                       204962\n",
      "Establishment Closed by DOHMH. Violations were cited in the following area(s) and those requiring immediate action were addressed.      7460\n",
      "Establishment re-opened by DOHMH.                                                                                                       1723\n",
      "No violations were recorded at the time of this inspection.                                                                               29\n",
      "Name: count, dtype: int64\n"
     ]
    },
    {
     "data": {
      "text/plain": [
       "4"
      ]
     },
     "execution_count": 39,
     "metadata": {},
     "output_type": "execute_result"
    }
   ],
   "source": [
    "print(inspections_df['action'].value_counts())\n",
    "len(inspections_df['action'].value_counts())\n",
    "\n",
    "#Summarize each value for better visual"
   ]
  },
  {
   "cell_type": "code",
   "execution_count": 40,
   "id": "7aa5f321",
   "metadata": {},
   "outputs": [
    {
     "data": {
      "text/plain": [
       "action\n",
       "Had Violations        204962\n",
       "Closed by DOHMH         7460\n",
       "Re-opened by DOHMH      1723\n",
       "No Violations             29\n",
       "Name: count, dtype: int64"
      ]
     },
     "execution_count": 40,
     "metadata": {},
     "output_type": "execute_result"
    }
   ],
   "source": [
    "#Function to summarize each value for better visual\n",
    "\n",
    "def summarize_action(value):\n",
    "    if 'Violations were cited in the following area(s).' in value:\n",
    "        return 'Had Violations'\n",
    "    elif 'Establishment Closed by DOHMH. Violations were cited in the following area(s) and those requiring immediate action were addressed.' in value:\n",
    "        return 'Closed by DOHMH'\n",
    "    elif 'Establishment re-opened by DOHMH.' in value:\n",
    "        return 'Re-opened by DOHMH'\n",
    "    elif 'No violations were recorded at the time of this inspection.' in value:\n",
    "        return 'No Violations'\n",
    "    else:\n",
    "        return value\n",
    "    \n",
    "inspections_df['action'] = inspections_df['action'].apply(summarize_action)\n",
    "\n",
    "inspections_df['action'].value_counts()"
   ]
  },
  {
   "cell_type": "code",
   "execution_count": 41,
   "id": "7aae11e8",
   "metadata": {
    "scrolled": true
   },
   "outputs": [
    {
     "data": {
      "text/plain": [
       "grade\n",
       "N    112893\n",
       "A     76181\n",
       "B     12993\n",
       "C      7517\n",
       "Z      3969\n",
       "P       621\n",
       "Name: count, dtype: int64"
      ]
     },
     "execution_count": 41,
     "metadata": {},
     "output_type": "execute_result"
    }
   ],
   "source": [
    "inspections_df['grade'].value_counts()"
   ]
  },
  {
   "cell_type": "code",
   "execution_count": 42,
   "id": "9f900570",
   "metadata": {},
   "outputs": [
    {
     "data": {
      "text/plain": [
       "grade\n",
       "PEN    116862\n",
       "A       76181\n",
       "B       12993\n",
       "C        7517\n",
       "PRO       621\n",
       "Name: count, dtype: int64"
      ]
     },
     "execution_count": 42,
     "metadata": {},
     "output_type": "execute_result"
    }
   ],
   "source": [
    "inspections_df['grade'] = inspections_df['grade'].replace({'P':'PRO', 'Z':'PEN', 'N':'PEN'})\n",
    "inspections_df['grade'].value_counts()"
   ]
  },
  {
   "cell_type": "code",
   "execution_count": 43,
   "id": "3223e9ff",
   "metadata": {},
   "outputs": [
    {
     "data": {
      "text/plain": [
       "critical_flag\n",
       "Critical        120629\n",
       "Not Critical     93545\n",
       "Name: count, dtype: int64"
      ]
     },
     "execution_count": 43,
     "metadata": {},
     "output_type": "execute_result"
    }
   ],
   "source": [
    "inspections_df['critical_flag'].value_counts()"
   ]
  },
  {
   "cell_type": "code",
   "execution_count": 44,
   "id": "f511994d",
   "metadata": {
    "scrolled": true
   },
   "outputs": [],
   "source": [
    "# Filter the data where critical_flag is 'Critical'\n",
    "#critical_violations_df = pd.DataFrame(inspections_df[inspections_df['critical_flag'] == 'Critical'])\n",
    "\n",
    "#print(len(critical_violations_df['violation_description'].value_counts()))\n",
    "#critical_violations_df[['violation_code','violation_description']].value_counts()"
   ]
  },
  {
   "cell_type": "code",
   "execution_count": 45,
   "id": "2c45a162",
   "metadata": {},
   "outputs": [],
   "source": [
    "# Filter the data where critical_flag is 'Not Critical'\n",
    "#not_critical_violations_df = pd.DataFrame(inspections_df[inspections_df['critical_flag'] == 'Not Critical'])\n",
    "\n",
    "#print(len(not_critical_violations_df['violation_description'].value_counts()))\n",
    "#not_critical_violations_df[['violation_code','violation_description']].value_counts()"
   ]
  },
  {
   "cell_type": "code",
   "execution_count": 46,
   "id": "ea0d821c",
   "metadata": {},
   "outputs": [],
   "source": [
    "#Categorizing Violation Codes \n",
    "\n",
    "violation_mapping = {\n",
    "    'Food Handling Violation' : ['06D','02G','02B','06C','04H','02G','06C','09B','04J','10E','10H','02H','04C','10G'],\n",
    "    'Documentation Violation' : ['04A','09E','20-04','20-06'],\n",
    "    'Pests or Rodents Violation' : ['08A','04L','04N','04M','04K'],\n",
    "    'Safety Violation' : ['08C','10D'],\n",
    "    'Cleaning and Sanitation Violation' : ['10F','10B','06E','06F','10G','05D','06A','10H','09C']\n",
    "}\n",
    "\n",
    "# Function to categorize violation codes\n",
    "def categorize_violation(code):\n",
    "    for category, codes in violation_mapping.items():\n",
    "        if code in codes:\n",
    "            return category\n",
    "    return 'Other'\n",
    "\n",
    "# Assign categories based on violation code using map() function\n",
    "inspections_df['violation_category'] = inspections_df['violation_code'].apply(categorize_violation)"
   ]
  },
  {
   "cell_type": "code",
   "execution_count": 47,
   "id": "3b1b4d75",
   "metadata": {},
   "outputs": [
    {
     "data": {
      "text/plain": [
       "(214174, 12)"
      ]
     },
     "execution_count": 47,
     "metadata": {},
     "output_type": "execute_result"
    }
   ],
   "source": [
    "#Drop any columns that won't be necessary after further cleaning\n",
    "\n",
    "inspections_df.drop(columns=['establishment_id','violation_description','inspection_month'], inplace=True)\n",
    "inspections_df.shape"
   ]
  },
  {
   "cell_type": "code",
   "execution_count": 48,
   "id": "b5cd9c91",
   "metadata": {},
   "outputs": [
    {
     "name": "stdout",
     "output_type": "stream",
     "text": [
      "violation_category\n",
      "Food Handling Violation              77191\n",
      "Cleaning and Sanitation Violation    64999\n",
      "Pests or Rodents Violation           55946\n",
      "Documentation Violation              10330\n",
      "Safety Violation                      5708\n",
      "Name: count, dtype: int64\n",
      "Total number of value counts:  214174\n"
     ]
    }
   ],
   "source": [
    "#Make sure all rows have a category\n",
    "\n",
    "print(inspections_df['violation_category'].value_counts())\n",
    "\n",
    "print('Total number of value counts: ', inspections_df['violation_category'].value_counts().sum())"
   ]
  },
  {
   "cell_type": "code",
   "execution_count": 49,
   "id": "ab7eba89",
   "metadata": {},
   "outputs": [],
   "source": [
    "new_column_order = ['establishment_name', 'cuisine_description', 'inspection_type', 'inspection_year', 'action', 'critical_flag', 'violation_code', 'violation_category', 'grade', 'borough', 'latitude', 'longitude']"
   ]
  },
  {
   "cell_type": "code",
   "execution_count": 50,
   "id": "f095c167",
   "metadata": {},
   "outputs": [
    {
     "data": {
      "text/html": [
       "<div>\n",
       "<style scoped>\n",
       "    .dataframe tbody tr th:only-of-type {\n",
       "        vertical-align: middle;\n",
       "    }\n",
       "\n",
       "    .dataframe tbody tr th {\n",
       "        vertical-align: top;\n",
       "    }\n",
       "\n",
       "    .dataframe thead th {\n",
       "        text-align: right;\n",
       "    }\n",
       "</style>\n",
       "<table border=\"1\" class=\"dataframe\">\n",
       "  <thead>\n",
       "    <tr style=\"text-align: right;\">\n",
       "      <th></th>\n",
       "      <th>establishment_name</th>\n",
       "      <th>cuisine_description</th>\n",
       "      <th>inspection_type</th>\n",
       "      <th>inspection_year</th>\n",
       "      <th>action</th>\n",
       "      <th>critical_flag</th>\n",
       "      <th>violation_code</th>\n",
       "      <th>violation_category</th>\n",
       "      <th>grade</th>\n",
       "      <th>borough</th>\n",
       "      <th>latitude</th>\n",
       "      <th>longitude</th>\n",
       "    </tr>\n",
       "  </thead>\n",
       "  <tbody>\n",
       "    <tr>\n",
       "      <th>0</th>\n",
       "      <td>DOMINO'S</td>\n",
       "      <td>Pizza</td>\n",
       "      <td>Initial Inspection</td>\n",
       "      <td>2021</td>\n",
       "      <td>Had Violations</td>\n",
       "      <td>Not Critical</td>\n",
       "      <td>09C</td>\n",
       "      <td>Cleaning and Sanitation Violation</td>\n",
       "      <td>A</td>\n",
       "      <td>Queens</td>\n",
       "      <td>40.665341</td>\n",
       "      <td>-73.730655</td>\n",
       "    </tr>\n",
       "    <tr>\n",
       "      <th>1</th>\n",
       "      <td>CHENG'S</td>\n",
       "      <td>Chinese</td>\n",
       "      <td>Initial Inspection</td>\n",
       "      <td>2023</td>\n",
       "      <td>Had Violations</td>\n",
       "      <td>Critical</td>\n",
       "      <td>04L</td>\n",
       "      <td>Pests or Rodents Violation</td>\n",
       "      <td>PEN</td>\n",
       "      <td>Staten Island</td>\n",
       "      <td>40.626010</td>\n",
       "      <td>-74.156541</td>\n",
       "    </tr>\n",
       "    <tr>\n",
       "      <th>2</th>\n",
       "      <td>TAQUERIA SAN PEDRO</td>\n",
       "      <td>Mexican</td>\n",
       "      <td>Re-inspection</td>\n",
       "      <td>2022</td>\n",
       "      <td>Had Violations</td>\n",
       "      <td>Critical</td>\n",
       "      <td>02B</td>\n",
       "      <td>Food Handling Violation</td>\n",
       "      <td>B</td>\n",
       "      <td>Manhattan</td>\n",
       "      <td>40.830403</td>\n",
       "      <td>-73.947535</td>\n",
       "    </tr>\n",
       "    <tr>\n",
       "      <th>3</th>\n",
       "      <td>PALACE RESTAURANT</td>\n",
       "      <td>American</td>\n",
       "      <td>Initial Inspection</td>\n",
       "      <td>2022</td>\n",
       "      <td>Had Violations</td>\n",
       "      <td>Critical</td>\n",
       "      <td>02B</td>\n",
       "      <td>Food Handling Violation</td>\n",
       "      <td>PEN</td>\n",
       "      <td>Manhattan</td>\n",
       "      <td>40.761164</td>\n",
       "      <td>-73.969736</td>\n",
       "    </tr>\n",
       "    <tr>\n",
       "      <th>4</th>\n",
       "      <td>ELIAS CORNER FOR FISH</td>\n",
       "      <td>Seafood</td>\n",
       "      <td>Initial Inspection</td>\n",
       "      <td>2022</td>\n",
       "      <td>Had Violations</td>\n",
       "      <td>Critical</td>\n",
       "      <td>04M</td>\n",
       "      <td>Pests or Rodents Violation</td>\n",
       "      <td>A</td>\n",
       "      <td>Queens</td>\n",
       "      <td>40.772154</td>\n",
       "      <td>-73.915568</td>\n",
       "    </tr>\n",
       "    <tr>\n",
       "      <th>...</th>\n",
       "      <td>...</td>\n",
       "      <td>...</td>\n",
       "      <td>...</td>\n",
       "      <td>...</td>\n",
       "      <td>...</td>\n",
       "      <td>...</td>\n",
       "      <td>...</td>\n",
       "      <td>...</td>\n",
       "      <td>...</td>\n",
       "      <td>...</td>\n",
       "      <td>...</td>\n",
       "      <td>...</td>\n",
       "    </tr>\n",
       "    <tr>\n",
       "      <th>230297</th>\n",
       "      <td>KYURAMEN / TBAAR</td>\n",
       "      <td>Japanese</td>\n",
       "      <td>Re-inspection</td>\n",
       "      <td>2023</td>\n",
       "      <td>Had Violations</td>\n",
       "      <td>Not Critical</td>\n",
       "      <td>10D</td>\n",
       "      <td>Safety Violation</td>\n",
       "      <td>A</td>\n",
       "      <td>Manhattan</td>\n",
       "      <td>40.802480</td>\n",
       "      <td>-73.968023</td>\n",
       "    </tr>\n",
       "    <tr>\n",
       "      <th>230298</th>\n",
       "      <td>LOS NISPEROS PERUVIAN RESTAURANT</td>\n",
       "      <td>Peruvian</td>\n",
       "      <td>Initial Inspection</td>\n",
       "      <td>2021</td>\n",
       "      <td>Had Violations</td>\n",
       "      <td>Not Critical</td>\n",
       "      <td>10F</td>\n",
       "      <td>Cleaning and Sanitation Violation</td>\n",
       "      <td>PEN</td>\n",
       "      <td>Bronx</td>\n",
       "      <td>40.814823</td>\n",
       "      <td>-73.914657</td>\n",
       "    </tr>\n",
       "    <tr>\n",
       "      <th>230299</th>\n",
       "      <td>THE RED GRILL MEXICAN RESTAURANT</td>\n",
       "      <td>Mexican</td>\n",
       "      <td>Initial Inspection</td>\n",
       "      <td>2021</td>\n",
       "      <td>Had Violations</td>\n",
       "      <td>Not Critical</td>\n",
       "      <td>08A</td>\n",
       "      <td>Pests or Rodents Violation</td>\n",
       "      <td>PEN</td>\n",
       "      <td>Manhattan</td>\n",
       "      <td>40.779272</td>\n",
       "      <td>-73.950735</td>\n",
       "    </tr>\n",
       "    <tr>\n",
       "      <th>230301</th>\n",
       "      <td>GYRO KING</td>\n",
       "      <td>Bangladeshi</td>\n",
       "      <td>Re-inspection</td>\n",
       "      <td>2024</td>\n",
       "      <td>Had Violations</td>\n",
       "      <td>Critical</td>\n",
       "      <td>06E</td>\n",
       "      <td>Cleaning and Sanitation Violation</td>\n",
       "      <td>PEN</td>\n",
       "      <td>Brooklyn</td>\n",
       "      <td>40.633534</td>\n",
       "      <td>-73.967149</td>\n",
       "    </tr>\n",
       "    <tr>\n",
       "      <th>230302</th>\n",
       "      <td>AMMAZZACAFFE</td>\n",
       "      <td>Italian</td>\n",
       "      <td>Initial Inspection</td>\n",
       "      <td>2022</td>\n",
       "      <td>Had Violations</td>\n",
       "      <td>Not Critical</td>\n",
       "      <td>10F</td>\n",
       "      <td>Cleaning and Sanitation Violation</td>\n",
       "      <td>A</td>\n",
       "      <td>Brooklyn</td>\n",
       "      <td>40.711556</td>\n",
       "      <td>-73.944660</td>\n",
       "    </tr>\n",
       "  </tbody>\n",
       "</table>\n",
       "<p>214174 rows × 12 columns</p>\n",
       "</div>"
      ],
      "text/plain": [
       "                      establishment_name cuisine_description  \\\n",
       "0                               DOMINO'S               Pizza   \n",
       "1                                CHENG'S             Chinese   \n",
       "2                     TAQUERIA SAN PEDRO             Mexican   \n",
       "3                      PALACE RESTAURANT            American   \n",
       "4                  ELIAS CORNER FOR FISH             Seafood   \n",
       "...                                  ...                 ...   \n",
       "230297                  KYURAMEN / TBAAR            Japanese   \n",
       "230298  LOS NISPEROS PERUVIAN RESTAURANT            Peruvian   \n",
       "230299  THE RED GRILL MEXICAN RESTAURANT             Mexican   \n",
       "230301                         GYRO KING         Bangladeshi   \n",
       "230302                      AMMAZZACAFFE             Italian   \n",
       "\n",
       "           inspection_type  inspection_year          action critical_flag  \\\n",
       "0       Initial Inspection             2021  Had Violations  Not Critical   \n",
       "1       Initial Inspection             2023  Had Violations      Critical   \n",
       "2            Re-inspection             2022  Had Violations      Critical   \n",
       "3       Initial Inspection             2022  Had Violations      Critical   \n",
       "4       Initial Inspection             2022  Had Violations      Critical   \n",
       "...                    ...              ...             ...           ...   \n",
       "230297       Re-inspection             2023  Had Violations  Not Critical   \n",
       "230298  Initial Inspection             2021  Had Violations  Not Critical   \n",
       "230299  Initial Inspection             2021  Had Violations  Not Critical   \n",
       "230301       Re-inspection             2024  Had Violations      Critical   \n",
       "230302  Initial Inspection             2022  Had Violations  Not Critical   \n",
       "\n",
       "       violation_code                 violation_category grade        borough  \\\n",
       "0                 09C  Cleaning and Sanitation Violation     A         Queens   \n",
       "1                 04L         Pests or Rodents Violation   PEN  Staten Island   \n",
       "2                 02B            Food Handling Violation     B      Manhattan   \n",
       "3                 02B            Food Handling Violation   PEN      Manhattan   \n",
       "4                 04M         Pests or Rodents Violation     A         Queens   \n",
       "...               ...                                ...   ...            ...   \n",
       "230297            10D                   Safety Violation     A      Manhattan   \n",
       "230298            10F  Cleaning and Sanitation Violation   PEN          Bronx   \n",
       "230299            08A         Pests or Rodents Violation   PEN      Manhattan   \n",
       "230301            06E  Cleaning and Sanitation Violation   PEN       Brooklyn   \n",
       "230302            10F  Cleaning and Sanitation Violation     A       Brooklyn   \n",
       "\n",
       "         latitude  longitude  \n",
       "0       40.665341 -73.730655  \n",
       "1       40.626010 -74.156541  \n",
       "2       40.830403 -73.947535  \n",
       "3       40.761164 -73.969736  \n",
       "4       40.772154 -73.915568  \n",
       "...           ...        ...  \n",
       "230297  40.802480 -73.968023  \n",
       "230298  40.814823 -73.914657  \n",
       "230299  40.779272 -73.950735  \n",
       "230301  40.633534 -73.967149  \n",
       "230302  40.711556 -73.944660  \n",
       "\n",
       "[214174 rows x 12 columns]"
      ]
     },
     "execution_count": 50,
     "metadata": {},
     "output_type": "execute_result"
    }
   ],
   "source": [
    "inspections_df = inspections_df[new_column_order]\n",
    "inspections_df"
   ]
  },
  {
   "cell_type": "code",
   "execution_count": 51,
   "id": "13086e1c",
   "metadata": {},
   "outputs": [
    {
     "name": "stdout",
     "output_type": "stream",
     "text": [
      "establishment_name     0\n",
      "cuisine_description    0\n",
      "inspection_type        0\n",
      "inspection_year        0\n",
      "action                 0\n",
      "critical_flag          0\n",
      "violation_code         0\n",
      "violation_category     0\n",
      "grade                  0\n",
      "borough                0\n",
      "latitude               0\n",
      "longitude              0\n",
      "dtype: int64\n"
     ]
    },
    {
     "data": {
      "text/plain": [
       "establishment_name      object\n",
       "cuisine_description     object\n",
       "inspection_type         object\n",
       "inspection_year          int64\n",
       "action                  object\n",
       "critical_flag           object\n",
       "violation_code          object\n",
       "violation_category      object\n",
       "grade                   object\n",
       "borough                 object\n",
       "latitude               float64\n",
       "longitude              float64\n",
       "dtype: object"
      ]
     },
     "execution_count": 51,
     "metadata": {},
     "output_type": "execute_result"
    }
   ],
   "source": [
    "#Fill Null Values with N = Not Yet Graded\n",
    "inspections_df['latitude'].fillna(value=0.0, inplace=True)\n",
    "inspections_df['latitude'].astype(float)\n",
    "inspections_df['longitude'].fillna(value=0.0, inplace=True)\n",
    "inspections_df['longitude'].astype(float)\n",
    "print(inspections_df.isna().sum())\n",
    "inspections_df.dtypes"
   ]
  },
  {
   "cell_type": "code",
   "execution_count": 53,
   "id": "54e2b576",
   "metadata": {},
   "outputs": [],
   "source": [
    "inspections_df.to_csv('inspections_df.csv', index=False)"
   ]
  },
  {
   "cell_type": "code",
   "execution_count": null,
   "id": "8ce0d801",
   "metadata": {},
   "outputs": [],
   "source": []
  }
 ],
 "metadata": {
  "kernelspec": {
   "display_name": "Python 3 (ipykernel)",
   "language": "python",
   "name": "python3"
  },
  "language_info": {
   "codemirror_mode": {
    "name": "ipython",
    "version": 3
   },
   "file_extension": ".py",
   "mimetype": "text/x-python",
   "name": "python",
   "nbconvert_exporter": "python",
   "pygments_lexer": "ipython3",
   "version": "3.11.7"
  }
 },
 "nbformat": 4,
 "nbformat_minor": 5
}
